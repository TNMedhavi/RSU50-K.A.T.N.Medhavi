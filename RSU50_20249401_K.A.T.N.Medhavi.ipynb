{
 "cells": [
  {
   "cell_type": "code",
   "execution_count": 45,
   "metadata": {},
   "outputs": [],
   "source": [
    "# Importing Libraries\n",
    "\n",
    "import pandas as pd\n",
    "import numpy as np\n",
    "import matplotlib.pyplot as plt\n",
    "import seaborn as sns\n",
    "import missingno as msno\n",
    "import random\n",
    "import matplotlib.pyplot as plt\n",
    "\n",
    "import plotly.express as px\n",
    "import plotly.graph_objects as go\n",
    "from plotly.subplots import make_subplots\n",
    "import plotly.io as pio"
   ]
  },
  {
   "cell_type": "code",
   "execution_count": 46,
   "metadata": {},
   "outputs": [
    {
     "data": {
      "text/html": [
       "<div>\n",
       "<style scoped>\n",
       "    .dataframe tbody tr th:only-of-type {\n",
       "        vertical-align: middle;\n",
       "    }\n",
       "\n",
       "    .dataframe tbody tr th {\n",
       "        vertical-align: top;\n",
       "    }\n",
       "\n",
       "    .dataframe thead th {\n",
       "        text-align: right;\n",
       "    }\n",
       "</style>\n",
       "<table border=\"1\" class=\"dataframe\">\n",
       "  <thead>\n",
       "    <tr style=\"text-align: right;\">\n",
       "      <th></th>\n",
       "      <th>POLICYNO</th>\n",
       "      <th>PRODUCT_TYPE</th>\n",
       "      <th>POLICYTERM_YEARS</th>\n",
       "      <th>COMMENCEDATE</th>\n",
       "      <th>COMMENCED_YEAR</th>\n",
       "      <th>PAYMENT_FREQUENCY</th>\n",
       "      <th>ANNUAL_PREMIUM</th>\n",
       "      <th>PAYMENT_METHOD</th>\n",
       "      <th>LASTPAYMENTDATE</th>\n",
       "      <th>NEXTPAYMENTDATE</th>\n",
       "      <th>...</th>\n",
       "      <th>HOSPITALIZATION_SUMINSURED</th>\n",
       "      <th>OTHER COVERS_SUMINSURED</th>\n",
       "      <th>AGE</th>\n",
       "      <th>GENDER</th>\n",
       "      <th>MARITAL_STATUS</th>\n",
       "      <th>NO_OF_SETTLED_CLAIMS</th>\n",
       "      <th>PAIDCLAIM_AMOUNT</th>\n",
       "      <th>LAST_CLAIM_PROCESSTIME_DAYS</th>\n",
       "      <th>PROVINCECODE</th>\n",
       "      <th>POLICY_STATUS</th>\n",
       "    </tr>\n",
       "  </thead>\n",
       "  <tbody>\n",
       "    <tr>\n",
       "      <th>0</th>\n",
       "      <td>NJEV2017-1435</td>\n",
       "      <td>ENDOW</td>\n",
       "      <td>49</td>\n",
       "      <td>5/23/2017</td>\n",
       "      <td>2017</td>\n",
       "      <td>M</td>\n",
       "      <td>24732</td>\n",
       "      <td>CASH</td>\n",
       "      <td>5/23/2017</td>\n",
       "      <td>6/23/2017 0:00</td>\n",
       "      <td>...</td>\n",
       "      <td>0</td>\n",
       "      <td>0</td>\n",
       "      <td>32</td>\n",
       "      <td>M</td>\n",
       "      <td>M</td>\n",
       "      <td>0</td>\n",
       "      <td>0</td>\n",
       "      <td>0</td>\n",
       "      <td>NRWTN</td>\n",
       "      <td>LAPSE</td>\n",
       "    </tr>\n",
       "    <tr>\n",
       "      <th>1</th>\n",
       "      <td>NJEV2017-1511</td>\n",
       "      <td>ENDOW</td>\n",
       "      <td>49</td>\n",
       "      <td>5/25/2017</td>\n",
       "      <td>2017</td>\n",
       "      <td>M</td>\n",
       "      <td>24732</td>\n",
       "      <td>CASH</td>\n",
       "      <td>5/25/2017</td>\n",
       "      <td>6/25/2017 0:00</td>\n",
       "      <td>...</td>\n",
       "      <td>0</td>\n",
       "      <td>0</td>\n",
       "      <td>32</td>\n",
       "      <td>M</td>\n",
       "      <td>M</td>\n",
       "      <td>0</td>\n",
       "      <td>0</td>\n",
       "      <td>0</td>\n",
       "      <td>NRWTN</td>\n",
       "      <td>LAPSE</td>\n",
       "    </tr>\n",
       "    <tr>\n",
       "      <th>2</th>\n",
       "      <td>NJEV2017-2402</td>\n",
       "      <td>ENDOW</td>\n",
       "      <td>49</td>\n",
       "      <td>9/18/2017</td>\n",
       "      <td>2017</td>\n",
       "      <td>M</td>\n",
       "      <td>24732</td>\n",
       "      <td>CASH</td>\n",
       "      <td>9/18/2017</td>\n",
       "      <td>10/18/2017 0:00</td>\n",
       "      <td>...</td>\n",
       "      <td>0</td>\n",
       "      <td>0</td>\n",
       "      <td>32</td>\n",
       "      <td>M</td>\n",
       "      <td>M</td>\n",
       "      <td>0</td>\n",
       "      <td>0</td>\n",
       "      <td>0</td>\n",
       "      <td>NRWTN</td>\n",
       "      <td>LAPSE</td>\n",
       "    </tr>\n",
       "    <tr>\n",
       "      <th>3</th>\n",
       "      <td>NJEV2017-133</td>\n",
       "      <td>ENDOW</td>\n",
       "      <td>49</td>\n",
       "      <td>1/23/2017</td>\n",
       "      <td>2017</td>\n",
       "      <td>M</td>\n",
       "      <td>24732</td>\n",
       "      <td>CASH</td>\n",
       "      <td>1/23/2017</td>\n",
       "      <td>2/23/2017 0:00</td>\n",
       "      <td>...</td>\n",
       "      <td>0</td>\n",
       "      <td>0</td>\n",
       "      <td>32</td>\n",
       "      <td>F</td>\n",
       "      <td>M</td>\n",
       "      <td>0</td>\n",
       "      <td>0</td>\n",
       "      <td>0</td>\n",
       "      <td>NRWTN</td>\n",
       "      <td>LAPSE</td>\n",
       "    </tr>\n",
       "    <tr>\n",
       "      <th>4</th>\n",
       "      <td>NJEV2017-2747</td>\n",
       "      <td>ENDOW</td>\n",
       "      <td>49</td>\n",
       "      <td>10/25/2017</td>\n",
       "      <td>2017</td>\n",
       "      <td>M</td>\n",
       "      <td>24732</td>\n",
       "      <td>CASH</td>\n",
       "      <td>10/25/2017</td>\n",
       "      <td>11/25/2017 0:00</td>\n",
       "      <td>...</td>\n",
       "      <td>0</td>\n",
       "      <td>0</td>\n",
       "      <td>32</td>\n",
       "      <td>M</td>\n",
       "      <td>M</td>\n",
       "      <td>0</td>\n",
       "      <td>0</td>\n",
       "      <td>0</td>\n",
       "      <td>ESTRN</td>\n",
       "      <td>LAPSE</td>\n",
       "    </tr>\n",
       "  </tbody>\n",
       "</table>\n",
       "<p>5 rows × 26 columns</p>\n",
       "</div>"
      ],
      "text/plain": [
       "        POLICYNO PRODUCT_TYPE  POLICYTERM_YEARS COMMENCEDATE  COMMENCED_YEAR   \n",
       "0  NJEV2017-1435        ENDOW                49    5/23/2017            2017  \\\n",
       "1  NJEV2017-1511        ENDOW                49    5/25/2017            2017   \n",
       "2  NJEV2017-2402        ENDOW                49    9/18/2017            2017   \n",
       "3   NJEV2017-133        ENDOW                49    1/23/2017            2017   \n",
       "4  NJEV2017-2747        ENDOW                49   10/25/2017            2017   \n",
       "\n",
       "  PAYMENT_FREQUENCY  ANNUAL_PREMIUM PAYMENT_METHOD LASTPAYMENTDATE   \n",
       "0                 M           24732           CASH       5/23/2017  \\\n",
       "1                 M           24732           CASH       5/25/2017   \n",
       "2                 M           24732           CASH       9/18/2017   \n",
       "3                 M           24732           CASH       1/23/2017   \n",
       "4                 M           24732           CASH      10/25/2017   \n",
       "\n",
       "   NEXTPAYMENTDATE  ...  HOSPITALIZATION_SUMINSURED  OTHER COVERS_SUMINSURED   \n",
       "0   6/23/2017 0:00  ...                           0                        0  \\\n",
       "1   6/25/2017 0:00  ...                           0                        0   \n",
       "2  10/18/2017 0:00  ...                           0                        0   \n",
       "3   2/23/2017 0:00  ...                           0                        0   \n",
       "4  11/25/2017 0:00  ...                           0                        0   \n",
       "\n",
       "   AGE  GENDER  MARITAL_STATUS  NO_OF_SETTLED_CLAIMS  PAIDCLAIM_AMOUNT   \n",
       "0   32       M               M                     0                 0  \\\n",
       "1   32       M               M                     0                 0   \n",
       "2   32       M               M                     0                 0   \n",
       "3   32       F               M                     0                 0   \n",
       "4   32       M               M                     0                 0   \n",
       "\n",
       "   LAST_CLAIM_PROCESSTIME_DAYS  PROVINCECODE POLICY_STATUS  \n",
       "0                            0         NRWTN         LAPSE  \n",
       "1                            0         NRWTN         LAPSE  \n",
       "2                            0         NRWTN         LAPSE  \n",
       "3                            0         NRWTN         LAPSE  \n",
       "4                            0         ESTRN         LAPSE  \n",
       "\n",
       "[5 rows x 26 columns]"
      ]
     },
     "execution_count": 46,
     "metadata": {},
     "output_type": "execute_result"
    }
   ],
   "source": [
    "# Load dataset\n",
    "df1 = pd.read_csv('RSU50-20249401-DataSet.csv')\n",
    "\n",
    "# Display the first few rows of the dataset\n",
    "df1.head()"
   ]
  },
  {
   "cell_type": "code",
   "execution_count": 47,
   "metadata": {},
   "outputs": [
    {
     "name": "stdout",
     "output_type": "stream",
     "text": [
      "The shape of the dataframe is: (175791, 26)\n"
     ]
    }
   ],
   "source": [
    "print(\"The shape of the dataframe is: {}\".format(df1.shape))"
   ]
  },
  {
   "cell_type": "code",
   "execution_count": 48,
   "metadata": {},
   "outputs": [
    {
     "data": {
      "text/plain": [
       "Index(['POLICYNO', 'PRODUCT_TYPE', 'POLICYTERM_YEARS', 'COMMENCEDATE',\n",
       "       'COMMENCED_YEAR', 'PAYMENT_FREQUENCY', 'ANNUAL_PREMIUM',\n",
       "       'PAYMENT_METHOD', 'LASTPAYMENTDATE', 'NEXTPAYMENTDATE',\n",
       "       'NEXTPAYMENT_YEAR', 'NO_OF_MONTHS_PAID', 'NO_OF_COVERS',\n",
       "       'TOTAL_SUMINSURED', 'BASIC_SUMINSURED', 'ACCIDENT_SUMINSURED',\n",
       "       'HOSPITALIZATION_SUMINSURED', 'OTHER COVERS_SUMINSURED', 'AGE',\n",
       "       'GENDER', 'MARITAL_STATUS', 'NO_OF_SETTLED_CLAIMS', 'PAIDCLAIM_AMOUNT',\n",
       "       'LAST_CLAIM_PROCESSTIME_DAYS', 'PROVINCECODE', 'POLICY_STATUS'],\n",
       "      dtype='object')"
      ]
     },
     "execution_count": 48,
     "metadata": {},
     "output_type": "execute_result"
    }
   ],
   "source": [
    "df1.columns"
   ]
  },
  {
   "cell_type": "code",
   "execution_count": 49,
   "metadata": {},
   "outputs": [
    {
     "name": "stdout",
     "output_type": "stream",
     "text": [
      "<class 'pandas.core.frame.DataFrame'>\n",
      "RangeIndex: 175791 entries, 0 to 175790\n",
      "Data columns (total 26 columns):\n",
      " #   Column                       Non-Null Count   Dtype \n",
      "---  ------                       --------------   ----- \n",
      " 0   POLICYNO                     175791 non-null  object\n",
      " 1   PRODUCT_TYPE                 175791 non-null  object\n",
      " 2   POLICYTERM_YEARS             175791 non-null  int64 \n",
      " 3   COMMENCEDATE                 175791 non-null  object\n",
      " 4   COMMENCED_YEAR               175791 non-null  int64 \n",
      " 5   PAYMENT_FREQUENCY            175791 non-null  object\n",
      " 6   ANNUAL_PREMIUM               175791 non-null  int64 \n",
      " 7   PAYMENT_METHOD               175791 non-null  object\n",
      " 8   LASTPAYMENTDATE              175791 non-null  object\n",
      " 9   NEXTPAYMENTDATE              175791 non-null  object\n",
      " 10  NEXTPAYMENT_YEAR             175791 non-null  int64 \n",
      " 11  NO_OF_MONTHS_PAID            175791 non-null  int64 \n",
      " 12  NO_OF_COVERS                 175791 non-null  int64 \n",
      " 13  TOTAL_SUMINSURED             175791 non-null  int64 \n",
      " 14  BASIC_SUMINSURED             175791 non-null  int64 \n",
      " 15  ACCIDENT_SUMINSURED          175791 non-null  int64 \n",
      " 16  HOSPITALIZATION_SUMINSURED   175791 non-null  int64 \n",
      " 17  OTHER COVERS_SUMINSURED      175791 non-null  int64 \n",
      " 18  AGE                          175791 non-null  int64 \n",
      " 19  GENDER                       175791 non-null  object\n",
      " 20  MARITAL_STATUS               175791 non-null  object\n",
      " 21  NO_OF_SETTLED_CLAIMS         175791 non-null  int64 \n",
      " 22  PAIDCLAIM_AMOUNT             175791 non-null  int64 \n",
      " 23  LAST_CLAIM_PROCESSTIME_DAYS  175791 non-null  int64 \n",
      " 24  PROVINCECODE                 175791 non-null  object\n",
      " 25  POLICY_STATUS                175791 non-null  object\n",
      "dtypes: int64(15), object(11)\n",
      "memory usage: 34.9+ MB\n",
      "None\n"
     ]
    }
   ],
   "source": [
    "# Basic dataset information\n",
    "\n",
    "print(df1.info())"
   ]
  },
  {
   "cell_type": "code",
   "execution_count": 50,
   "metadata": {},
   "outputs": [
    {
     "data": {
      "text/plain": [
       "<Axes: >"
      ]
     },
     "execution_count": 50,
     "metadata": {},
     "output_type": "execute_result"
    },
    {
     "data": {
      "image/png": "[encoded data removed]",
      "text/plain": [
       "<Figure size 2500x1000 with 2 Axes>"
      ]
     },
     "metadata": {},
     "output_type": "display_data"
    }
   ],
   "source": [
    "#Visualize Missing Values\n",
    "msno.matrix(df1)\n"
   ]
  },
  {
   "cell_type": "code",
   "execution_count": 51,
   "metadata": {},
   "outputs": [
    {
     "data": {
      "text/plain": [
       "False"
      ]
     },
     "execution_count": 51,
     "metadata": {},
     "output_type": "execute_result"
    }
   ],
   "source": [
    "df1.isnull().any().any()"
   ]
  },
  {
   "cell_type": "code",
   "execution_count": 52,
   "metadata": {},
   "outputs": [
    {
     "data": {
      "text/plain": [
       "POLICYNO                       0\n",
       "PRODUCT_TYPE                   0\n",
       "POLICYTERM_YEARS               0\n",
       "COMMENCEDATE                   0\n",
       "COMMENCED_YEAR                 0\n",
       "PAYMENT_FREQUENCY              0\n",
       "ANNUAL_PREMIUM                 0\n",
       "PAYMENT_METHOD                 0\n",
       "LASTPAYMENTDATE                0\n",
       "NEXTPAYMENTDATE                0\n",
       "NEXTPAYMENT_YEAR               0\n",
       "NO_OF_MONTHS_PAID              0\n",
       "NO_OF_COVERS                   0\n",
       "TOTAL_SUMINSURED               0\n",
       "BASIC_SUMINSURED               0\n",
       "ACCIDENT_SUMINSURED            0\n",
       "HOSPITALIZATION_SUMINSURED     0\n",
       "OTHER COVERS_SUMINSURED        0\n",
       "AGE                            0\n",
       "GENDER                         0\n",
       "MARITAL_STATUS                 0\n",
       "NO_OF_SETTLED_CLAIMS           0\n",
       "PAIDCLAIM_AMOUNT               0\n",
       "LAST_CLAIM_PROCESSTIME_DAYS    0\n",
       "PROVINCECODE                   0\n",
       "POLICY_STATUS                  0\n",
       "dtype: int64"
      ]
     },
     "execution_count": 52,
     "metadata": {},
     "output_type": "execute_result"
    }
   ],
   "source": [
    "df1.isnull().sum()"
   ]
  },
  {
   "cell_type": "code",
   "execution_count": 53,
   "metadata": {},
   "outputs": [
    {
     "name": "stdout",
     "output_type": "stream",
     "text": [
      "Known observations: 175791\n",
      "Unique observations: 175791\n",
      "**No duplicates Found!**\n"
     ]
    }
   ],
   "source": [
    "#Checking Duplicates\n",
    "\n",
    "print('Known observations: {}\\nUnique observations: {}'.format(len(df1.index),len(df1.drop_duplicates().index)))\n",
    "\n",
    "print(\"**No duplicates Found!**\")"
   ]
  },
  {
   "cell_type": "code",
   "execution_count": 54,
   "metadata": {},
   "outputs": [
    {
     "data": {
      "text/html": [
       "<div>\n",
       "<style scoped>\n",
       "    .dataframe tbody tr th:only-of-type {\n",
       "        vertical-align: middle;\n",
       "    }\n",
       "\n",
       "    .dataframe tbody tr th {\n",
       "        vertical-align: top;\n",
       "    }\n",
       "\n",
       "    .dataframe thead th {\n",
       "        text-align: right;\n",
       "    }\n",
       "</style>\n",
       "<table border=\"1\" class=\"dataframe\">\n",
       "  <thead>\n",
       "    <tr style=\"text-align: right;\">\n",
       "      <th></th>\n",
       "      <th>PRODUCT_TYPE</th>\n",
       "      <th>POLICYTERM_YEARS</th>\n",
       "      <th>COMMENCED_YEAR</th>\n",
       "      <th>PAYMENT_FREQUENCY</th>\n",
       "      <th>ANNUAL_PREMIUM</th>\n",
       "      <th>PAYMENT_METHOD</th>\n",
       "      <th>NEXTPAYMENT_YEAR</th>\n",
       "      <th>NO_OF_MONTHS_PAID</th>\n",
       "      <th>NO_OF_COVERS</th>\n",
       "      <th>TOTAL_SUMINSURED</th>\n",
       "      <th>...</th>\n",
       "      <th>ACCIDENT_SUMINSURED</th>\n",
       "      <th>HOSPITALIZATION_SUMINSURED</th>\n",
       "      <th>OTHER COVERS_SUMINSURED</th>\n",
       "      <th>AGE</th>\n",
       "      <th>GENDER</th>\n",
       "      <th>MARITAL_STATUS</th>\n",
       "      <th>NO_OF_SETTLED_CLAIMS</th>\n",
       "      <th>PAIDCLAIM_AMOUNT</th>\n",
       "      <th>LAST_CLAIM_PROCESSTIME_DAYS</th>\n",
       "      <th>POLICY_STATUS</th>\n",
       "    </tr>\n",
       "  </thead>\n",
       "  <tbody>\n",
       "    <tr>\n",
       "      <th>0</th>\n",
       "      <td>ENDOW</td>\n",
       "      <td>49</td>\n",
       "      <td>2017</td>\n",
       "      <td>M</td>\n",
       "      <td>24732</td>\n",
       "      <td>CASH</td>\n",
       "      <td>2017</td>\n",
       "      <td>1</td>\n",
       "      <td>1</td>\n",
       "      <td>500000</td>\n",
       "      <td>...</td>\n",
       "      <td>0</td>\n",
       "      <td>0</td>\n",
       "      <td>0</td>\n",
       "      <td>32</td>\n",
       "      <td>M</td>\n",
       "      <td>M</td>\n",
       "      <td>0</td>\n",
       "      <td>0</td>\n",
       "      <td>0</td>\n",
       "      <td>LAPSE</td>\n",
       "    </tr>\n",
       "    <tr>\n",
       "      <th>1</th>\n",
       "      <td>ENDOW</td>\n",
       "      <td>49</td>\n",
       "      <td>2017</td>\n",
       "      <td>M</td>\n",
       "      <td>24732</td>\n",
       "      <td>CASH</td>\n",
       "      <td>2017</td>\n",
       "      <td>1</td>\n",
       "      <td>1</td>\n",
       "      <td>500000</td>\n",
       "      <td>...</td>\n",
       "      <td>0</td>\n",
       "      <td>0</td>\n",
       "      <td>0</td>\n",
       "      <td>32</td>\n",
       "      <td>M</td>\n",
       "      <td>M</td>\n",
       "      <td>0</td>\n",
       "      <td>0</td>\n",
       "      <td>0</td>\n",
       "      <td>LAPSE</td>\n",
       "    </tr>\n",
       "    <tr>\n",
       "      <th>2</th>\n",
       "      <td>ENDOW</td>\n",
       "      <td>49</td>\n",
       "      <td>2017</td>\n",
       "      <td>M</td>\n",
       "      <td>24732</td>\n",
       "      <td>CASH</td>\n",
       "      <td>2017</td>\n",
       "      <td>1</td>\n",
       "      <td>1</td>\n",
       "      <td>500000</td>\n",
       "      <td>...</td>\n",
       "      <td>0</td>\n",
       "      <td>0</td>\n",
       "      <td>0</td>\n",
       "      <td>32</td>\n",
       "      <td>M</td>\n",
       "      <td>M</td>\n",
       "      <td>0</td>\n",
       "      <td>0</td>\n",
       "      <td>0</td>\n",
       "      <td>LAPSE</td>\n",
       "    </tr>\n",
       "    <tr>\n",
       "      <th>3</th>\n",
       "      <td>ENDOW</td>\n",
       "      <td>49</td>\n",
       "      <td>2017</td>\n",
       "      <td>M</td>\n",
       "      <td>24732</td>\n",
       "      <td>CASH</td>\n",
       "      <td>2017</td>\n",
       "      <td>1</td>\n",
       "      <td>1</td>\n",
       "      <td>500000</td>\n",
       "      <td>...</td>\n",
       "      <td>0</td>\n",
       "      <td>0</td>\n",
       "      <td>0</td>\n",
       "      <td>32</td>\n",
       "      <td>F</td>\n",
       "      <td>M</td>\n",
       "      <td>0</td>\n",
       "      <td>0</td>\n",
       "      <td>0</td>\n",
       "      <td>LAPSE</td>\n",
       "    </tr>\n",
       "    <tr>\n",
       "      <th>4</th>\n",
       "      <td>ENDOW</td>\n",
       "      <td>49</td>\n",
       "      <td>2017</td>\n",
       "      <td>M</td>\n",
       "      <td>24732</td>\n",
       "      <td>CASH</td>\n",
       "      <td>2017</td>\n",
       "      <td>1</td>\n",
       "      <td>1</td>\n",
       "      <td>500000</td>\n",
       "      <td>...</td>\n",
       "      <td>0</td>\n",
       "      <td>0</td>\n",
       "      <td>0</td>\n",
       "      <td>32</td>\n",
       "      <td>M</td>\n",
       "      <td>M</td>\n",
       "      <td>0</td>\n",
       "      <td>0</td>\n",
       "      <td>0</td>\n",
       "      <td>LAPSE</td>\n",
       "    </tr>\n",
       "  </tbody>\n",
       "</table>\n",
       "<p>5 rows × 21 columns</p>\n",
       "</div>"
      ],
      "text/plain": [
       "  PRODUCT_TYPE  POLICYTERM_YEARS  COMMENCED_YEAR PAYMENT_FREQUENCY   \n",
       "0        ENDOW                49            2017                 M  \\\n",
       "1        ENDOW                49            2017                 M   \n",
       "2        ENDOW                49            2017                 M   \n",
       "3        ENDOW                49            2017                 M   \n",
       "4        ENDOW                49            2017                 M   \n",
       "\n",
       "   ANNUAL_PREMIUM PAYMENT_METHOD  NEXTPAYMENT_YEAR  NO_OF_MONTHS_PAID   \n",
       "0           24732           CASH              2017                  1  \\\n",
       "1           24732           CASH              2017                  1   \n",
       "2           24732           CASH              2017                  1   \n",
       "3           24732           CASH              2017                  1   \n",
       "4           24732           CASH              2017                  1   \n",
       "\n",
       "   NO_OF_COVERS  TOTAL_SUMINSURED  ...  ACCIDENT_SUMINSURED   \n",
       "0             1            500000  ...                    0  \\\n",
       "1             1            500000  ...                    0   \n",
       "2             1            500000  ...                    0   \n",
       "3             1            500000  ...                    0   \n",
       "4             1            500000  ...                    0   \n",
       "\n",
       "   HOSPITALIZATION_SUMINSURED  OTHER COVERS_SUMINSURED  AGE  GENDER   \n",
       "0                           0                        0   32       M  \\\n",
       "1                           0                        0   32       M   \n",
       "2                           0                        0   32       M   \n",
       "3                           0                        0   32       F   \n",
       "4                           0                        0   32       M   \n",
       "\n",
       "  MARITAL_STATUS NO_OF_SETTLED_CLAIMS  PAIDCLAIM_AMOUNT   \n",
       "0              M                    0                 0  \\\n",
       "1              M                    0                 0   \n",
       "2              M                    0                 0   \n",
       "3              M                    0                 0   \n",
       "4              M                    0                 0   \n",
       "\n",
       "   LAST_CLAIM_PROCESSTIME_DAYS  POLICY_STATUS  \n",
       "0                            0          LAPSE  \n",
       "1                            0          LAPSE  \n",
       "2                            0          LAPSE  \n",
       "3                            0          LAPSE  \n",
       "4                            0          LAPSE  \n",
       "\n",
       "[5 rows x 21 columns]"
      ]
     },
     "execution_count": 54,
     "metadata": {},
     "output_type": "execute_result"
    }
   ],
   "source": [
    "df1 = df1.drop([\"POLICYNO\",\"COMMENCEDATE\",\"LASTPAYMENTDATE\",\"NEXTPAYMENTDATE\",\"PROVINCECODE\"], axis = 1)\n",
    "df1.head()"
   ]
  },
  {
   "cell_type": "code",
   "execution_count": 55,
   "metadata": {},
   "outputs": [
    {
     "data": {
      "text/html": [
       "<div>\n",
       "<style scoped>\n",
       "    .dataframe tbody tr th:only-of-type {\n",
       "        vertical-align: middle;\n",
       "    }\n",
       "\n",
       "    .dataframe tbody tr th {\n",
       "        vertical-align: top;\n",
       "    }\n",
       "\n",
       "    .dataframe thead th {\n",
       "        text-align: right;\n",
       "    }\n",
       "</style>\n",
       "<table border=\"1\" class=\"dataframe\">\n",
       "  <thead>\n",
       "    <tr style=\"text-align: right;\">\n",
       "      <th></th>\n",
       "      <th>count</th>\n",
       "      <th>unique</th>\n",
       "      <th>top</th>\n",
       "      <th>freq</th>\n",
       "    </tr>\n",
       "  </thead>\n",
       "  <tbody>\n",
       "    <tr>\n",
       "      <th>PRODUCT_TYPE</th>\n",
       "      <td>175791</td>\n",
       "      <td>2</td>\n",
       "      <td>ENDOW</td>\n",
       "      <td>150064</td>\n",
       "    </tr>\n",
       "    <tr>\n",
       "      <th>PAYMENT_FREQUENCY</th>\n",
       "      <td>175791</td>\n",
       "      <td>4</td>\n",
       "      <td>M</td>\n",
       "      <td>140678</td>\n",
       "    </tr>\n",
       "    <tr>\n",
       "      <th>PAYMENT_METHOD</th>\n",
       "      <td>175791</td>\n",
       "      <td>3</td>\n",
       "      <td>CASH</td>\n",
       "      <td>160722</td>\n",
       "    </tr>\n",
       "    <tr>\n",
       "      <th>GENDER</th>\n",
       "      <td>175791</td>\n",
       "      <td>2</td>\n",
       "      <td>M</td>\n",
       "      <td>114530</td>\n",
       "    </tr>\n",
       "    <tr>\n",
       "      <th>MARITAL_STATUS</th>\n",
       "      <td>175791</td>\n",
       "      <td>2</td>\n",
       "      <td>M</td>\n",
       "      <td>140537</td>\n",
       "    </tr>\n",
       "    <tr>\n",
       "      <th>POLICY_STATUS</th>\n",
       "      <td>175791</td>\n",
       "      <td>2</td>\n",
       "      <td>LAPSE</td>\n",
       "      <td>156950</td>\n",
       "    </tr>\n",
       "  </tbody>\n",
       "</table>\n",
       "</div>"
      ],
      "text/plain": [
       "                    count unique    top    freq\n",
       "PRODUCT_TYPE       175791      2  ENDOW  150064\n",
       "PAYMENT_FREQUENCY  175791      4      M  140678\n",
       "PAYMENT_METHOD     175791      3   CASH  160722\n",
       "GENDER             175791      2      M  114530\n",
       "MARITAL_STATUS     175791      2      M  140537\n",
       "POLICY_STATUS      175791      2  LAPSE  156950"
      ]
     },
     "execution_count": 55,
     "metadata": {},
     "output_type": "execute_result"
    }
   ],
   "source": [
    "df1.describe(include=['object']).T"
   ]
  },
  {
   "cell_type": "code",
   "execution_count": 56,
   "metadata": {},
   "outputs": [
    {
     "data": {
      "text/html": [
       "<div>\n",
       "<style scoped>\n",
       "    .dataframe tbody tr th:only-of-type {\n",
       "        vertical-align: middle;\n",
       "    }\n",
       "\n",
       "    .dataframe tbody tr th {\n",
       "        vertical-align: top;\n",
       "    }\n",
       "\n",
       "    .dataframe thead th {\n",
       "        text-align: right;\n",
       "    }\n",
       "</style>\n",
       "<table border=\"1\" class=\"dataframe\">\n",
       "  <thead>\n",
       "    <tr style=\"text-align: right;\">\n",
       "      <th></th>\n",
       "      <th>POLICYTERM_YEARS</th>\n",
       "      <th>COMMENCED_YEAR</th>\n",
       "      <th>ANNUAL_PREMIUM</th>\n",
       "      <th>NEXTPAYMENT_YEAR</th>\n",
       "      <th>NO_OF_MONTHS_PAID</th>\n",
       "      <th>NO_OF_COVERS</th>\n",
       "      <th>TOTAL_SUMINSURED</th>\n",
       "      <th>BASIC_SUMINSURED</th>\n",
       "      <th>ACCIDENT_SUMINSURED</th>\n",
       "      <th>HOSPITALIZATION_SUMINSURED</th>\n",
       "      <th>OTHER COVERS_SUMINSURED</th>\n",
       "      <th>AGE</th>\n",
       "      <th>NO_OF_SETTLED_CLAIMS</th>\n",
       "      <th>PAIDCLAIM_AMOUNT</th>\n",
       "      <th>LAST_CLAIM_PROCESSTIME_DAYS</th>\n",
       "    </tr>\n",
       "  </thead>\n",
       "  <tbody>\n",
       "    <tr>\n",
       "      <th>count</th>\n",
       "      <td>175791.000000</td>\n",
       "      <td>175791.000000</td>\n",
       "      <td>1.757910e+05</td>\n",
       "      <td>175791.000000</td>\n",
       "      <td>175791.000000</td>\n",
       "      <td>175791.000000</td>\n",
       "      <td>1.757910e+05</td>\n",
       "      <td>1.757910e+05</td>\n",
       "      <td>1.757910e+05</td>\n",
       "      <td>1.757910e+05</td>\n",
       "      <td>1.757910e+05</td>\n",
       "      <td>175791.000000</td>\n",
       "      <td>175791.000000</td>\n",
       "      <td>1.757910e+05</td>\n",
       "      <td>175791.000000</td>\n",
       "    </tr>\n",
       "    <tr>\n",
       "      <th>mean</th>\n",
       "      <td>23.735720</td>\n",
       "      <td>2016.089544</td>\n",
       "      <td>5.365460e+04</td>\n",
       "      <td>2017.205255</td>\n",
       "      <td>13.690707</td>\n",
       "      <td>3.136628</td>\n",
       "      <td>2.474662e+06</td>\n",
       "      <td>7.895238e+05</td>\n",
       "      <td>9.413125e+05</td>\n",
       "      <td>3.934087e+05</td>\n",
       "      <td>3.504172e+05</td>\n",
       "      <td>34.977752</td>\n",
       "      <td>0.098879</td>\n",
       "      <td>2.629889e+03</td>\n",
       "      <td>3.354114</td>\n",
       "    </tr>\n",
       "    <tr>\n",
       "      <th>std</th>\n",
       "      <td>11.555351</td>\n",
       "      <td>4.028817</td>\n",
       "      <td>8.783135e+04</td>\n",
       "      <td>4.377116</td>\n",
       "      <td>26.710407</td>\n",
       "      <td>1.256307</td>\n",
       "      <td>2.763663e+06</td>\n",
       "      <td>8.157095e+05</td>\n",
       "      <td>1.401510e+06</td>\n",
       "      <td>5.989737e+05</td>\n",
       "      <td>6.447110e+05</td>\n",
       "      <td>9.609733</td>\n",
       "      <td>0.667061</td>\n",
       "      <td>2.874498e+04</td>\n",
       "      <td>53.223974</td>\n",
       "    </tr>\n",
       "    <tr>\n",
       "      <th>min</th>\n",
       "      <td>5.000000</td>\n",
       "      <td>2010.000000</td>\n",
       "      <td>1.200000e+04</td>\n",
       "      <td>2010.000000</td>\n",
       "      <td>1.000000</td>\n",
       "      <td>1.000000</td>\n",
       "      <td>5.023000e+04</td>\n",
       "      <td>4.068000e+03</td>\n",
       "      <td>0.000000e+00</td>\n",
       "      <td>0.000000e+00</td>\n",
       "      <td>0.000000e+00</td>\n",
       "      <td>18.000000</td>\n",
       "      <td>0.000000</td>\n",
       "      <td>0.000000e+00</td>\n",
       "      <td>0.000000</td>\n",
       "    </tr>\n",
       "    <tr>\n",
       "      <th>25%</th>\n",
       "      <td>16.000000</td>\n",
       "      <td>2012.000000</td>\n",
       "      <td>2.166000e+04</td>\n",
       "      <td>2013.000000</td>\n",
       "      <td>1.000000</td>\n",
       "      <td>2.000000</td>\n",
       "      <td>7.350000e+05</td>\n",
       "      <td>3.000000e+05</td>\n",
       "      <td>0.000000e+00</td>\n",
       "      <td>0.000000e+00</td>\n",
       "      <td>0.000000e+00</td>\n",
       "      <td>28.000000</td>\n",
       "      <td>0.000000</td>\n",
       "      <td>0.000000e+00</td>\n",
       "      <td>0.000000</td>\n",
       "    </tr>\n",
       "    <tr>\n",
       "      <th>50%</th>\n",
       "      <td>20.000000</td>\n",
       "      <td>2016.000000</td>\n",
       "      <td>3.164400e+04</td>\n",
       "      <td>2017.000000</td>\n",
       "      <td>4.000000</td>\n",
       "      <td>4.000000</td>\n",
       "      <td>1.745000e+06</td>\n",
       "      <td>5.625000e+05</td>\n",
       "      <td>6.000000e+05</td>\n",
       "      <td>2.700000e+05</td>\n",
       "      <td>2.000000e+05</td>\n",
       "      <td>33.000000</td>\n",
       "      <td>0.000000</td>\n",
       "      <td>0.000000e+00</td>\n",
       "      <td>0.000000</td>\n",
       "    </tr>\n",
       "    <tr>\n",
       "      <th>75%</th>\n",
       "      <td>25.000000</td>\n",
       "      <td>2020.000000</td>\n",
       "      <td>6.204000e+04</td>\n",
       "      <td>2022.000000</td>\n",
       "      <td>12.000000</td>\n",
       "      <td>4.000000</td>\n",
       "      <td>3.150000e+06</td>\n",
       "      <td>1.000000e+06</td>\n",
       "      <td>1.125000e+06</td>\n",
       "      <td>5.400000e+05</td>\n",
       "      <td>5.000000e+05</td>\n",
       "      <td>42.000000</td>\n",
       "      <td>0.000000</td>\n",
       "      <td>0.000000e+00</td>\n",
       "      <td>0.000000</td>\n",
       "    </tr>\n",
       "    <tr>\n",
       "      <th>max</th>\n",
       "      <td>49.000000</td>\n",
       "      <td>2022.000000</td>\n",
       "      <td>9.979720e+06</td>\n",
       "      <td>2033.000000</td>\n",
       "      <td>240.000000</td>\n",
       "      <td>6.000000</td>\n",
       "      <td>1.110258e+08</td>\n",
       "      <td>5.102576e+07</td>\n",
       "      <td>6.000000e+07</td>\n",
       "      <td>2.000000e+07</td>\n",
       "      <td>2.500000e+07</td>\n",
       "      <td>87.000000</td>\n",
       "      <td>20.000000</td>\n",
       "      <td>2.050000e+06</td>\n",
       "      <td>2816.000000</td>\n",
       "    </tr>\n",
       "  </tbody>\n",
       "</table>\n",
       "</div>"
      ],
      "text/plain": [
       "       POLICYTERM_YEARS  COMMENCED_YEAR  ANNUAL_PREMIUM  NEXTPAYMENT_YEAR   \n",
       "count     175791.000000   175791.000000    1.757910e+05     175791.000000  \\\n",
       "mean          23.735720     2016.089544    5.365460e+04       2017.205255   \n",
       "std           11.555351        4.028817    8.783135e+04          4.377116   \n",
       "min            5.000000     2010.000000    1.200000e+04       2010.000000   \n",
       "25%           16.000000     2012.000000    2.166000e+04       2013.000000   \n",
       "50%           20.000000     2016.000000    3.164400e+04       2017.000000   \n",
       "75%           25.000000     2020.000000    6.204000e+04       2022.000000   \n",
       "max           49.000000     2022.000000    9.979720e+06       2033.000000   \n",
       "\n",
       "       NO_OF_MONTHS_PAID   NO_OF_COVERS  TOTAL_SUMINSURED  BASIC_SUMINSURED   \n",
       "count      175791.000000  175791.000000      1.757910e+05      1.757910e+05  \\\n",
       "mean           13.690707       3.136628      2.474662e+06      7.895238e+05   \n",
       "std            26.710407       1.256307      2.763663e+06      8.157095e+05   \n",
       "min             1.000000       1.000000      5.023000e+04      4.068000e+03   \n",
       "25%             1.000000       2.000000      7.350000e+05      3.000000e+05   \n",
       "50%             4.000000       4.000000      1.745000e+06      5.625000e+05   \n",
       "75%            12.000000       4.000000      3.150000e+06      1.000000e+06   \n",
       "max           240.000000       6.000000      1.110258e+08      5.102576e+07   \n",
       "\n",
       "       ACCIDENT_SUMINSURED  HOSPITALIZATION_SUMINSURED   \n",
       "count         1.757910e+05                1.757910e+05  \\\n",
       "mean          9.413125e+05                3.934087e+05   \n",
       "std           1.401510e+06                5.989737e+05   \n",
       "min           0.000000e+00                0.000000e+00   \n",
       "25%           0.000000e+00                0.000000e+00   \n",
       "50%           6.000000e+05                2.700000e+05   \n",
       "75%           1.125000e+06                5.400000e+05   \n",
       "max           6.000000e+07                2.000000e+07   \n",
       "\n",
       "       OTHER COVERS_SUMINSURED            AGE  NO_OF_SETTLED_CLAIMS   \n",
       "count             1.757910e+05  175791.000000         175791.000000  \\\n",
       "mean              3.504172e+05      34.977752              0.098879   \n",
       "std               6.447110e+05       9.609733              0.667061   \n",
       "min               0.000000e+00      18.000000              0.000000   \n",
       "25%               0.000000e+00      28.000000              0.000000   \n",
       "50%               2.000000e+05      33.000000              0.000000   \n",
       "75%               5.000000e+05      42.000000              0.000000   \n",
       "max               2.500000e+07      87.000000             20.000000   \n",
       "\n",
       "       PAIDCLAIM_AMOUNT  LAST_CLAIM_PROCESSTIME_DAYS  \n",
       "count      1.757910e+05                175791.000000  \n",
       "mean       2.629889e+03                     3.354114  \n",
       "std        2.874498e+04                    53.223974  \n",
       "min        0.000000e+00                     0.000000  \n",
       "25%        0.000000e+00                     0.000000  \n",
       "50%        0.000000e+00                     0.000000  \n",
       "75%        0.000000e+00                     0.000000  \n",
       "max        2.050000e+06                  2816.000000  "
      ]
     },
     "execution_count": 56,
     "metadata": {},
     "output_type": "execute_result"
    }
   ],
   "source": [
    "# Shows statistical summaries for all numeric columns\n",
    "df1.describe()"
   ]
  },
  {
   "cell_type": "code",
   "execution_count": 57,
   "metadata": {},
   "outputs": [
    {
     "data": {
      "application/vnd.plotly.v1+json": {
       "config": {
        "plotlyServerURL": "https://plot.ly"
       },
       "data": [
        {
         "hole": 0.4,
         "labels": [
          "LAPSE",
          "ACTIVE"
         ],
         "marker": {
          "colors": [
           "#EF553B",
           "#636EFA"
          ]
         },
         "name": "POLICY_STATUS",
         "textfont": {
          "size": 12
         },
         "textinfo": "label+percent",
         "type": "pie",
         "values": [
          156950,
          18841
         ]
        }
       ],
       "layout": {
        "annotations": [
         {
          "font": {
           "size": 12
          },
          "showarrow": false,
          "text": "POLICY STATUS",
          "x": 0.5,
          "y": -0.1
         }
        ],
        "height": 400,
        "legend": {
         "x": 0.4,
         "y": -0.3
        },
        "template": {
         "data": {
          "bar": [
           {
            "error_x": {
             "color": "#2a3f5f"
            },
            "error_y": {
             "color": "#2a3f5f"
            },
            "marker": {
             "line": {
              "color": "#E5ECF6",
              "width": 0.5
             },
             "pattern": {
              "fillmode": "overlay",
              "size": 10,
              "solidity": 0.2
             }
            },
            "type": "bar"
           }
          ],
          "barpolar": [
           {
            "marker": {
             "line": {
              "color": "#E5ECF6",
              "width": 0.5
             },
             "pattern": {
              "fillmode": "overlay",
              "size": 10,
              "solidity": 0.2
             }
            },
            "type": "barpolar"
           }
          ],
          "carpet": [
           {
            "aaxis": {
             "endlinecolor": "#2a3f5f",
             "gridcolor": "white",
             "linecolor": "white",
             "minorgridcolor": "white",
             "startlinecolor": "#2a3f5f"
            },
            "baxis": {
             "endlinecolor": "#2a3f5f",
             "gridcolor": "white",
             "linecolor": "white",
             "minorgridcolor": "white",
             "startlinecolor": "#2a3f5f"
            },
            "type": "carpet"
           }
          ],
          "choropleth": [
           {
            "colorbar": {
             "outlinewidth": 0,
             "ticks": ""
            },
            "type": "choropleth"
           }
          ],
          "contour": [
           {
            "colorbar": {
             "outlinewidth": 0,
             "ticks": ""
            },
            "colorscale": [
             [
              0,
              "#0d0887"
             ],
             [
              0.1111111111111111,
              "#46039f"
             ],
             [
              0.2222222222222222,
              "#7201a8"
             ],
             [
              0.3333333333333333,
              "#9c179e"
             ],
             [
              0.4444444444444444,
              "#bd3786"
             ],
             [
              0.5555555555555556,
              "#d8576b"
             ],
             [
              0.6666666666666666,
              "#ed7953"
             ],
             [
              0.7777777777777778,
              "#fb9f3a"
             ],
             [
              0.8888888888888888,
              "#fdca26"
             ],
             [
              1,
              "#f0f921"
             ]
            ],
            "type": "contour"
           }
          ],
          "contourcarpet": [
           {
            "colorbar": {
             "outlinewidth": 0,
             "ticks": ""
            },
            "type": "contourcarpet"
           }
          ],
          "heatmap": [
           {
            "colorbar": {
             "outlinewidth": 0,
             "ticks": ""
            },
            "colorscale": [
             [
              0,
              "#0d0887"
             ],
             [
              0.1111111111111111,
              "#46039f"
             ],
             [
              0.2222222222222222,
              "#7201a8"
             ],
             [
              0.3333333333333333,
              "#9c179e"
             ],
             [
              0.4444444444444444,
              "#bd3786"
             ],
             [
              0.5555555555555556,
              "#d8576b"
             ],
             [
              0.6666666666666666,
              "#ed7953"
             ],
             [
              0.7777777777777778,
              "#fb9f3a"
             ],
             [
              0.8888888888888888,
              "#fdca26"
             ],
             [
              1,
              "#f0f921"
             ]
            ],
            "type": "heatmap"
           }
          ],
          "heatmapgl": [
           {
            "colorbar": {
             "outlinewidth": 0,
             "ticks": ""
            },
            "colorscale": [
             [
              0,
              "#0d0887"
             ],
             [
              0.1111111111111111,
              "#46039f"
             ],
             [
              0.2222222222222222,
              "#7201a8"
             ],
             [
              0.3333333333333333,
              "#9c179e"
             ],
             [
              0.4444444444444444,
              "#bd3786"
             ],
             [
              0.5555555555555556,
              "#d8576b"
             ],
             [
              0.6666666666666666,
              "#ed7953"
             ],
             [
              0.7777777777777778,
              "#fb9f3a"
             ],
             [
              0.8888888888888888,
              "#fdca26"
             ],
             [
              1,
              "#f0f921"
             ]
            ],
            "type": "heatmapgl"
           }
          ],
          "histogram": [
           {
            "marker": {
             "pattern": {
              "fillmode": "overlay",
              "size": 10,
              "solidity": 0.2
             }
            },
            "type": "histogram"
           }
          ],
          "histogram2d": [
           {
            "colorbar": {
             "outlinewidth": 0,
             "ticks": ""
            },
            "colorscale": [
             [
              0,
              "#0d0887"
             ],
             [
              0.1111111111111111,
              "#46039f"
             ],
             [
              0.2222222222222222,
              "#7201a8"
             ],
             [
              0.3333333333333333,
              "#9c179e"
             ],
             [
              0.4444444444444444,
              "#bd3786"
             ],
             [
              0.5555555555555556,
              "#d8576b"
             ],
             [
              0.6666666666666666,
              "#ed7953"
             ],
             [
              0.7777777777777778,
              "#fb9f3a"
             ],
             [
              0.8888888888888888,
              "#fdca26"
             ],
             [
              1,
              "#f0f921"
             ]
            ],
            "type": "histogram2d"
           }
          ],
          "histogram2dcontour": [
           {
            "colorbar": {
             "outlinewidth": 0,
             "ticks": ""
            },
            "colorscale": [
             [
              0,
              "#0d0887"
             ],
             [
              0.1111111111111111,
              "#46039f"
             ],
             [
              0.2222222222222222,
              "#7201a8"
             ],
             [
              0.3333333333333333,
              "#9c179e"
             ],
             [
              0.4444444444444444,
              "#bd3786"
             ],
             [
              0.5555555555555556,
              "#d8576b"
             ],
             [
              0.6666666666666666,
              "#ed7953"
             ],
             [
              0.7777777777777778,
              "#fb9f3a"
             ],
             [
              0.8888888888888888,
              "#fdca26"
             ],
             [
              1,
              "#f0f921"
             ]
            ],
            "type": "histogram2dcontour"
           }
          ],
          "mesh3d": [
           {
            "colorbar": {
             "outlinewidth": 0,
             "ticks": ""
            },
            "type": "mesh3d"
           }
          ],
          "parcoords": [
           {
            "line": {
             "colorbar": {
              "outlinewidth": 0,
              "ticks": ""
             }
            },
            "type": "parcoords"
           }
          ],
          "pie": [
           {
            "automargin": true,
            "type": "pie"
           }
          ],
          "scatter": [
           {
            "fillpattern": {
             "fillmode": "overlay",
             "size": 10,
             "solidity": 0.2
            },
            "type": "scatter"
           }
          ],
          "scatter3d": [
           {
            "line": {
             "colorbar": {
              "outlinewidth": 0,
              "ticks": ""
             }
            },
            "marker": {
             "colorbar": {
              "outlinewidth": 0,
              "ticks": ""
             }
            },
            "type": "scatter3d"
           }
          ],
          "scattercarpet": [
           {
            "marker": {
             "colorbar": {
              "outlinewidth": 0,
              "ticks": ""
             }
            },
            "type": "scattercarpet"
           }
          ],
          "scattergeo": [
           {
            "marker": {
             "colorbar": {
              "outlinewidth": 0,
              "ticks": ""
             }
            },
            "type": "scattergeo"
           }
          ],
          "scattergl": [
           {
            "marker": {
             "colorbar": {
              "outlinewidth": 0,
              "ticks": ""
             }
            },
            "type": "scattergl"
           }
          ],
          "scattermapbox": [
           {
            "marker": {
             "colorbar": {
              "outlinewidth": 0,
              "ticks": ""
             }
            },
            "type": "scattermapbox"
           }
          ],
          "scatterpolar": [
           {
            "marker": {
             "colorbar": {
              "outlinewidth": 0,
              "ticks": ""
             }
            },
            "type": "scatterpolar"
           }
          ],
          "scatterpolargl": [
           {
            "marker": {
             "colorbar": {
              "outlinewidth": 0,
              "ticks": ""
             }
            },
            "type": "scatterpolargl"
           }
          ],
          "scatterternary": [
           {
            "marker": {
             "colorbar": {
              "outlinewidth": 0,
              "ticks": ""
             }
            },
            "type": "scatterternary"
           }
          ],
          "surface": [
           {
            "colorbar": {
             "outlinewidth": 0,
             "ticks": ""
            },
            "colorscale": [
             [
              0,
              "#0d0887"
             ],
             [
              0.1111111111111111,
              "#46039f"
             ],
             [
              0.2222222222222222,
              "#7201a8"
             ],
             [
              0.3333333333333333,
              "#9c179e"
             ],
             [
              0.4444444444444444,
              "#bd3786"
             ],
             [
              0.5555555555555556,
              "#d8576b"
             ],
             [
              0.6666666666666666,
              "#ed7953"
             ],
             [
              0.7777777777777778,
              "#fb9f3a"
             ],
             [
              0.8888888888888888,
              "#fdca26"
             ],
             [
              1,
              "#f0f921"
             ]
            ],
            "type": "surface"
           }
          ],
          "table": [
           {
            "cells": {
             "fill": {
              "color": "#EBF0F8"
             },
             "line": {
              "color": "white"
             }
            },
            "header": {
             "fill": {
              "color": "#C8D4E3"
             },
             "line": {
              "color": "white"
             }
            },
            "type": "table"
           }
          ]
         },
         "layout": {
          "annotationdefaults": {
           "arrowcolor": "#2a3f5f",
           "arrowhead": 0,
           "arrowwidth": 1
          },
          "autotypenumbers": "strict",
          "coloraxis": {
           "colorbar": {
            "outlinewidth": 0,
            "ticks": ""
           }
          },
          "colorscale": {
           "diverging": [
            [
             0,
             "#8e0152"
            ],
            [
             0.1,
             "#c51b7d"
            ],
            [
             0.2,
             "#de77ae"
            ],
            [
             0.3,
             "#f1b6da"
            ],
            [
             0.4,
             "#fde0ef"
            ],
            [
             0.5,
             "#f7f7f7"
            ],
            [
             0.6,
             "#e6f5d0"
            ],
            [
             0.7,
             "#b8e186"
            ],
            [
             0.8,
             "#7fbc41"
            ],
            [
             0.9,
             "#4d9221"
            ],
            [
             1,
             "#276419"
            ]
           ],
           "sequential": [
            [
             0,
             "#0d0887"
            ],
            [
             0.1111111111111111,
             "#46039f"
            ],
            [
             0.2222222222222222,
             "#7201a8"
            ],
            [
             0.3333333333333333,
             "#9c179e"
            ],
            [
             0.4444444444444444,
             "#bd3786"
            ],
            [
             0.5555555555555556,
             "#d8576b"
            ],
            [
             0.6666666666666666,
             "#ed7953"
            ],
            [
             0.7777777777777778,
             "#fb9f3a"
            ],
            [
             0.8888888888888888,
             "#fdca26"
            ],
            [
             1,
             "#f0f921"
            ]
           ],
           "sequentialminus": [
            [
             0,
             "#0d0887"
            ],
            [
             0.1111111111111111,
             "#46039f"
            ],
            [
             0.2222222222222222,
             "#7201a8"
            ],
            [
             0.3333333333333333,
             "#9c179e"
            ],
            [
             0.4444444444444444,
             "#bd3786"
            ],
            [
             0.5555555555555556,
             "#d8576b"
            ],
            [
             0.6666666666666666,
             "#ed7953"
            ],
            [
             0.7777777777777778,
             "#fb9f3a"
            ],
            [
             0.8888888888888888,
             "#fdca26"
            ],
            [
             1,
             "#f0f921"
            ]
           ]
          },
          "colorway": [
           "#636efa",
           "#EF553B",
           "#00cc96",
           "#ab63fa",
           "#FFA15A",
           "#19d3f3",
           "#FF6692",
           "#B6E880",
           "#FF97FF",
           "#FECB52"
          ],
          "font": {
           "color": "#2a3f5f"
          },
          "geo": {
           "bgcolor": "white",
           "lakecolor": "white",
           "landcolor": "#E5ECF6",
           "showlakes": true,
           "showland": true,
           "subunitcolor": "white"
          },
          "hoverlabel": {
           "align": "left"
          },
          "hovermode": "closest",
          "mapbox": {
           "style": "light"
          },
          "paper_bgcolor": "white",
          "plot_bgcolor": "#E5ECF6",
          "polar": {
           "angularaxis": {
            "gridcolor": "white",
            "linecolor": "white",
            "ticks": ""
           },
           "bgcolor": "#E5ECF6",
           "radialaxis": {
            "gridcolor": "white",
            "linecolor": "white",
            "ticks": ""
           }
          },
          "scene": {
           "xaxis": {
            "backgroundcolor": "#E5ECF6",
            "gridcolor": "white",
            "gridwidth": 2,
            "linecolor": "white",
            "showbackground": true,
            "ticks": "",
            "zerolinecolor": "white"
           },
           "yaxis": {
            "backgroundcolor": "#E5ECF6",
            "gridcolor": "white",
            "gridwidth": 2,
            "linecolor": "white",
            "showbackground": true,
            "ticks": "",
            "zerolinecolor": "white"
           },
           "zaxis": {
            "backgroundcolor": "#E5ECF6",
            "gridcolor": "white",
            "gridwidth": 2,
            "linecolor": "white",
            "showbackground": true,
            "ticks": "",
            "zerolinecolor": "white"
           }
          },
          "shapedefaults": {
           "line": {
            "color": "#2a3f5f"
           }
          },
          "ternary": {
           "aaxis": {
            "gridcolor": "white",
            "linecolor": "white",
            "ticks": ""
           },
           "baxis": {
            "gridcolor": "white",
            "linecolor": "white",
            "ticks": ""
           },
           "bgcolor": "#E5ECF6",
           "caxis": {
            "gridcolor": "white",
            "linecolor": "white",
            "ticks": ""
           }
          },
          "title": {
           "x": 0.05
          },
          "xaxis": {
           "automargin": true,
           "gridcolor": "white",
           "linecolor": "white",
           "ticks": "",
           "title": {
            "standoff": 15
           },
           "zerolinecolor": "white",
           "zerolinewidth": 2
          },
          "yaxis": {
           "automargin": true,
           "gridcolor": "white",
           "linecolor": "white",
           "ticks": "",
           "title": {
            "standoff": 15
           },
           "zerolinecolor": "white",
           "zerolinewidth": 2
          }
         }
        },
        "title": {
         "text": "Active vs Lapse Policy Distribution",
         "x": 0.55,
         "y": 0.9
        },
        "width": 550
       }
      }
     },
     "metadata": {},
     "output_type": "display_data"
    }
   ],
   "source": [
    "\n",
    "type_ = [\"LAPSE\", \"ACTIVE\"]\n",
    "fig = make_subplots(rows=1, cols=1)\n",
    "\n",
    "# Define custom colors\n",
    "custom_colors = ['#EF553B', '#636EFA']  # You can change these colors as needed\n",
    "\n",
    "# Create the figure and pie chart\n",
    "fig = go.Figure()\n",
    "\n",
    "# Add a Pie trace with data labels and custom colors\n",
    "fig.add_trace(go.Pie(\n",
    "    labels=type_,\n",
    "    values=df1['POLICY_STATUS'].value_counts(),\n",
    "    name=\"POLICY_STATUS\",\n",
    "    textinfo='label+percent',\n",
    "    marker=dict(colors=custom_colors),\n",
    "))\n",
    "\n",
    "# Use `hole` to create a donut-like pie chart\n",
    "fig.update_traces(hole=0.4, textfont_size=12)\n",
    "\n",
    "fig.update_layout(\n",
    "    title_text=\"Active vs Lapse Policy Distribution\",\n",
    "    title_x=0.55,\n",
    "    title_y=0.90,\n",
    "    annotations=[dict(text='POLICY STATUS', x=0.5, y=-0.1, font_size=12, showarrow=False)],\n",
    "    \n",
    "    # Move the legend to the bottom\n",
    "    legend=dict(x=0.4, y=-0.3),\n",
    "\n",
    "    # Reduce chart size by setting height and width\n",
    "    height=400,\n",
    "    width=550,\n",
    ")\n",
    "\n",
    "fig.show()"
   ]
  },
  {
   "cell_type": "code",
   "execution_count": 58,
   "metadata": {},
   "outputs": [
    {
     "data": {
      "image/png": "[encoded data removed]",
      "text/plain": [
       "<Figure size 500x500 with 1 Axes>"
      ]
     },
     "metadata": {},
     "output_type": "display_data"
    }
   ],
   "source": [
    "# Calculate gender counts\n",
    "gender_counts = df1['GENDER'].value_counts()\n",
    "\n",
    "# Calculate percentages\n",
    "total_count = len(df1)\n",
    "gender_percentages = (gender_counts / total_count) * 100\n",
    "\n",
    "# Define custom colors\n",
    "custom_colors = ['#66B2FF', 'hotpink']  # Custom colors for Male and Female\n",
    "\n",
    "# Create pie chart labels with gender, count, and percentage\n",
    "labels = gender_counts.index\n",
    "labels_with_info = [f\"{gender}\\nCount: {count}\\nPercentage: {percentage:.1f}%\" for gender, count, percentage in zip(labels, gender_counts, gender_percentages)]\n",
    "\n",
    "# Create a pie chart\n",
    "plt.figure(figsize=(5, 5))\n",
    "plt.pie(gender_counts, labels=labels_with_info, autopct='', colors=custom_colors, startangle=90)\n",
    "plt.title(\"Gender Distribution\")\n",
    "\n",
    "# Display the chart\n",
    "plt.axis('equal')\n",
    "plt.show()"
   ]
  },
  {
   "cell_type": "code",
   "execution_count": 59,
   "metadata": {},
   "outputs": [
    {
     "data": {
      "text/plain": [
       "GENDER\n",
       "F     61261\n",
       "M    114530\n",
       "Name: POLICY_STATUS, dtype: int64"
      ]
     },
     "execution_count": 59,
     "metadata": {},
     "output_type": "execute_result"
    }
   ],
   "source": [
    "df1.POLICY_STATUS.groupby(by = df1.GENDER).count()"
   ]
  },
  {
   "cell_type": "code",
   "execution_count": 60,
   "metadata": {},
   "outputs": [
    {
     "data": {
      "text/plain": [
       "POLICY_STATUS\n",
       "ACTIVE     11772\n",
       "LAPSE     102758\n",
       "Name: GENDER, dtype: int64"
      ]
     },
     "execution_count": 60,
     "metadata": {},
     "output_type": "execute_result"
    }
   ],
   "source": [
    "df1.GENDER[df1.GENDER == \"M\"].groupby(by = df1.POLICY_STATUS).count()"
   ]
  },
  {
   "cell_type": "code",
   "execution_count": 61,
   "metadata": {},
   "outputs": [
    {
     "data": {
      "text/plain": [
       "POLICY_STATUS\n",
       "ACTIVE     7069\n",
       "LAPSE     54192\n",
       "Name: GENDER, dtype: int64"
      ]
     },
     "execution_count": 61,
     "metadata": {},
     "output_type": "execute_result"
    }
   ],
   "source": [
    "df1.GENDER[df1.GENDER == \"F\"].groupby(by = df1.POLICY_STATUS).count()"
   ]
  },
  {
   "cell_type": "code",
   "execution_count": 62,
   "metadata": {},
   "outputs": [
    {
     "data": {
      "image/png": "[encoded data removed]",
      "text/plain": [
       "<Figure size 800x600 with 1 Axes>"
      ]
     },
     "metadata": {},
     "output_type": "display_data"
    }
   ],
   "source": [
    "# Data\n",
    "genders = [\"Male\", \"Female\"]\n",
    "lapse_percentage = [102758 / 114530 * 100, 54192 / 61261 * 100]\n",
    "active_percentage = [11772 / 114530 * 100, 7069 / 61261 * 100]\n",
    "\n",
    "# Create a figure and axis\n",
    "fig, ax = plt.subplots(figsize=(8, 6))\n",
    "\n",
    "# Create the stacked bar chart\n",
    "bar_width = 0.35\n",
    "index = range(len(genders))\n",
    "p1 = ax.bar(index, lapse_percentage, bar_width, label=\"LAPSE\", color=\"#EF553B\")\n",
    "p2 = ax.bar(index, active_percentage, bar_width, bottom=lapse_percentage, label=\"ACTIVE\", color=\"#636EFA\")\n",
    "\n",
    "# Set labels, title, and legend\n",
    "ax.set_xlabel(\"Gender\")\n",
    "ax.set_ylabel(\"Percentage\")\n",
    "ax.set_title(\"Percentage of Lapse and Active Policies by Gender\")\n",
    "ax.set_xticks(index)\n",
    "ax.set_xticklabels(genders)\n",
    "ax.legend()\n",
    "\n",
    "# Add percentages on top of the bars\n",
    "for i, (p1_height, p2_height) in enumerate(zip(lapse_percentage, active_percentage)):\n",
    "    ax.annotate(f\"{p1_height:.1f}%\", (i, p1_height / 2), ha=\"center\", va=\"center\", fontsize=12, color=\"white\")\n",
    "    ax.annotate(f\"{p2_height:.1f}%\", (i, p1_height + p2_height / 2), ha=\"center\", va=\"center\", fontsize=12, color=\"white\")\n",
    "\n",
    "# Show the plot\n",
    "plt.tight_layout()\n",
    "plt.show()"
   ]
  }
 ],
 "metadata": {
  "kernelspec": {
   "display_name": "Python 3",
   "language": "python",
   "name": "python3"
  },
  "language_info": {
   "codemirror_mode": {
    "name": "ipython",
    "version": 3
   },
   "file_extension": ".py",
   "mimetype": "text/x-python",
   "name": "python",
   "nbconvert_exporter": "python",
   "pygments_lexer": "ipython3",
   "version": "3.10.10"
  },
  "orig_nbformat": 4
 },
 "nbformat": 4,
 "nbformat_minor": 2
}
